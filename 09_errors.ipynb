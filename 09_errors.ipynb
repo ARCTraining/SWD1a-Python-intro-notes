{
  "nbformat": 4,
  "nbformat_minor": 0,
  "metadata": {
    "colab": {
      "provenance": []
    },
    "kernelspec": {
      "name": "python3",
      "display_name": "Python 3"
    },
    "language_info": {
      "name": "python"
    }
  },
  "cells": [
    {
      "cell_type": "markdown",
      "source": [
        "This script runs through some common errors you will find when programming in Python!"
      ],
      "metadata": {
        "id": "v39lHR-H_uZA"
      }
    },
    {
      "cell_type": "code",
      "source": [
        "# This code has an intentional error. You can type it directly or\n",
        "# use it for reference to understand the error message below.\n",
        "def favorite_ice_cream():\n",
        "    ice_creams = [\n",
        "        'chocolate',\n",
        "        'vanilla',\n",
        "        'strawberry'\n",
        "    ]\n",
        "    print(ice_creams[3])\n",
        "\n",
        "favorite_ice_cream()"
      ],
      "metadata": {
        "colab": {
          "base_uri": "https://localhost:8080/",
          "height": 332
        },
        "id": "Ru4xEmREdNmB",
        "outputId": "92992e20-b78f-4950-c5ad-0eae28faff65"
      },
      "execution_count": null,
      "outputs": [
        {
          "output_type": "error",
          "ename": "IndexError",
          "evalue": "ignored",
          "traceback": [
            "\u001b[0;31m---------------------------------------------------------------------------\u001b[0m",
            "\u001b[0;31mIndexError\u001b[0m                                Traceback (most recent call last)",
            "\u001b[0;32m<ipython-input-4-e5b074b4d20d>\u001b[0m in \u001b[0;36m<cell line: 11>\u001b[0;34m()\u001b[0m\n\u001b[1;32m      9\u001b[0m     \u001b[0mprint\u001b[0m\u001b[0;34m(\u001b[0m\u001b[0mice_creams\u001b[0m\u001b[0;34m[\u001b[0m\u001b[0;36m3\u001b[0m\u001b[0;34m]\u001b[0m\u001b[0;34m)\u001b[0m\u001b[0;34m\u001b[0m\u001b[0;34m\u001b[0m\u001b[0m\n\u001b[1;32m     10\u001b[0m \u001b[0;34m\u001b[0m\u001b[0m\n\u001b[0;32m---> 11\u001b[0;31m \u001b[0mfavorite_ice_cream\u001b[0m\u001b[0;34m(\u001b[0m\u001b[0;34m)\u001b[0m\u001b[0;34m\u001b[0m\u001b[0;34m\u001b[0m\u001b[0m\n\u001b[0m",
            "\u001b[0;32m<ipython-input-4-e5b074b4d20d>\u001b[0m in \u001b[0;36mfavorite_ice_cream\u001b[0;34m()\u001b[0m\n\u001b[1;32m      7\u001b[0m         \u001b[0;34m'strawberry'\u001b[0m\u001b[0;34m\u001b[0m\u001b[0;34m\u001b[0m\u001b[0m\n\u001b[1;32m      8\u001b[0m     ]\n\u001b[0;32m----> 9\u001b[0;31m     \u001b[0mprint\u001b[0m\u001b[0;34m(\u001b[0m\u001b[0mice_creams\u001b[0m\u001b[0;34m[\u001b[0m\u001b[0;36m3\u001b[0m\u001b[0;34m]\u001b[0m\u001b[0;34m)\u001b[0m\u001b[0;34m\u001b[0m\u001b[0;34m\u001b[0m\u001b[0m\n\u001b[0m\u001b[1;32m     10\u001b[0m \u001b[0;34m\u001b[0m\u001b[0m\n\u001b[1;32m     11\u001b[0m \u001b[0mfavorite_ice_cream\u001b[0m\u001b[0;34m(\u001b[0m\u001b[0;34m)\u001b[0m\u001b[0;34m\u001b[0m\u001b[0;34m\u001b[0m\u001b[0m\n",
            "\u001b[0;31mIndexError\u001b[0m: list index out of range"
          ]
        }
      ]
    },
    {
      "cell_type": "code",
      "source": [
        "# This code has an intentional error. Do not type it directly;\n",
        "# use it for reference to understand the error message below.\n",
        "def print_message(day):\n",
        "    messages = [\n",
        "        'Hello, world!',\n",
        "        'Today is Tuesday!',\n",
        "        'It is the middle of the week.',\n",
        "        'Today is Donnerstag in German!',\n",
        "        'Last day of the week!',\n",
        "        'Hooray for the weekend!',\n",
        "        'Aw, the weekend is almost over.'\n",
        "    ]\n",
        "    print(messages[day])\n",
        "\n",
        "def print_sunday_message():\n",
        "    print_message(7)\n",
        "\n",
        "print_sunday_message()"
      ],
      "metadata": {
        "colab": {
          "base_uri": "https://localhost:8080/",
          "height": 477
        },
        "id": "j4xPxR_lfO9B",
        "outputId": "0000b43a-51d5-4a65-9eb7-825a36e88ffd"
      },
      "execution_count": null,
      "outputs": [
        {
          "output_type": "error",
          "ename": "IndexError",
          "evalue": "ignored",
          "traceback": [
            "\u001b[0;31m---------------------------------------------------------------------------\u001b[0m",
            "\u001b[0;31mIndexError\u001b[0m                                Traceback (most recent call last)",
            "\u001b[0;32m<ipython-input-5-e03a87e2dfe6>\u001b[0m in \u001b[0;36m<cell line: 18>\u001b[0;34m()\u001b[0m\n\u001b[1;32m     16\u001b[0m     \u001b[0mprint_message\u001b[0m\u001b[0;34m(\u001b[0m\u001b[0;36m7\u001b[0m\u001b[0;34m)\u001b[0m\u001b[0;34m\u001b[0m\u001b[0;34m\u001b[0m\u001b[0m\n\u001b[1;32m     17\u001b[0m \u001b[0;34m\u001b[0m\u001b[0m\n\u001b[0;32m---> 18\u001b[0;31m \u001b[0mprint_sunday_message\u001b[0m\u001b[0;34m(\u001b[0m\u001b[0;34m)\u001b[0m\u001b[0;34m\u001b[0m\u001b[0;34m\u001b[0m\u001b[0m\n\u001b[0m",
            "\u001b[0;32m<ipython-input-5-e03a87e2dfe6>\u001b[0m in \u001b[0;36mprint_sunday_message\u001b[0;34m()\u001b[0m\n\u001b[1;32m     14\u001b[0m \u001b[0;34m\u001b[0m\u001b[0m\n\u001b[1;32m     15\u001b[0m \u001b[0;32mdef\u001b[0m \u001b[0mprint_sunday_message\u001b[0m\u001b[0;34m(\u001b[0m\u001b[0;34m)\u001b[0m\u001b[0;34m:\u001b[0m\u001b[0;34m\u001b[0m\u001b[0;34m\u001b[0m\u001b[0m\n\u001b[0;32m---> 16\u001b[0;31m     \u001b[0mprint_message\u001b[0m\u001b[0;34m(\u001b[0m\u001b[0;36m7\u001b[0m\u001b[0;34m)\u001b[0m\u001b[0;34m\u001b[0m\u001b[0;34m\u001b[0m\u001b[0m\n\u001b[0m\u001b[1;32m     17\u001b[0m \u001b[0;34m\u001b[0m\u001b[0m\n\u001b[1;32m     18\u001b[0m \u001b[0mprint_sunday_message\u001b[0m\u001b[0;34m(\u001b[0m\u001b[0;34m)\u001b[0m\u001b[0;34m\u001b[0m\u001b[0;34m\u001b[0m\u001b[0m\n",
            "\u001b[0;32m<ipython-input-5-e03a87e2dfe6>\u001b[0m in \u001b[0;36mprint_message\u001b[0;34m(day)\u001b[0m\n\u001b[1;32m     11\u001b[0m         \u001b[0;34m'Aw, the weekend is almost over.'\u001b[0m\u001b[0;34m\u001b[0m\u001b[0;34m\u001b[0m\u001b[0m\n\u001b[1;32m     12\u001b[0m     ]\n\u001b[0;32m---> 13\u001b[0;31m     \u001b[0mprint\u001b[0m\u001b[0;34m(\u001b[0m\u001b[0mmessages\u001b[0m\u001b[0;34m[\u001b[0m\u001b[0mday\u001b[0m\u001b[0;34m]\u001b[0m\u001b[0;34m)\u001b[0m\u001b[0;34m\u001b[0m\u001b[0;34m\u001b[0m\u001b[0m\n\u001b[0m\u001b[1;32m     14\u001b[0m \u001b[0;34m\u001b[0m\u001b[0m\n\u001b[1;32m     15\u001b[0m \u001b[0;32mdef\u001b[0m \u001b[0mprint_sunday_message\u001b[0m\u001b[0;34m(\u001b[0m\u001b[0;34m)\u001b[0m\u001b[0;34m:\u001b[0m\u001b[0;34m\u001b[0m\u001b[0;34m\u001b[0m\u001b[0m\n",
            "\u001b[0;31mIndexError\u001b[0m: list index out of range"
          ]
        }
      ]
    },
    {
      "cell_type": "code",
      "source": [],
      "metadata": {
        "id": "zz48w530p4oT"
      },
      "execution_count": null,
      "outputs": []
    },
    {
      "cell_type": "code",
      "source": [
        "def some_function():\n",
        "    msg = 'hello, world!'\n",
        "    print(msg)\n",
        "    return msg"
      ],
      "metadata": {
        "id": "pnyN3WiUgHWj"
      },
      "execution_count": null,
      "outputs": []
    },
    {
      "cell_type": "code",
      "source": [
        "some_function()"
      ],
      "metadata": {
        "colab": {
          "base_uri": "https://localhost:8080/",
          "height": 53
        },
        "id": "pKnsAfRlgcbz",
        "outputId": "ce1f79e5-2c4f-41f9-fae0-5fafdf62eee7"
      },
      "execution_count": null,
      "outputs": [
        {
          "output_type": "stream",
          "name": "stdout",
          "text": [
            "hello, world!\n"
          ]
        },
        {
          "output_type": "execute_result",
          "data": {
            "text/plain": [
              "'hello, world!'"
            ],
            "application/vnd.google.colaboratory.intrinsic+json": {
              "type": "string"
            }
          },
          "metadata": {},
          "execution_count": 10
        }
      ]
    },
    {
      "cell_type": "code",
      "source": [
        "def some_function():\n",
        "    msg = 'hello, world!'\n",
        "    print(msg)\n",
        "    return msg"
      ],
      "metadata": {
        "id": "73vA3GxZg2IQ"
      },
      "execution_count": null,
      "outputs": []
    },
    {
      "cell_type": "code",
      "source": [
        "a = \"Hello!\"\n",
        "\n",
        "print(a)"
      ],
      "metadata": {
        "colab": {
          "base_uri": "https://localhost:8080/"
        },
        "id": "oS5ppkBOhksu",
        "outputId": "51316a20-2ab9-41b5-ffdc-9251aa498bfe"
      },
      "execution_count": null,
      "outputs": [
        {
          "output_type": "stream",
          "name": "stdout",
          "text": [
            "Hello!\n"
          ]
        }
      ]
    },
    {
      "cell_type": "code",
      "source": [
        "print(\"Hello\")"
      ],
      "metadata": {
        "colab": {
          "base_uri": "https://localhost:8080/"
        },
        "id": "CgEOgcEYhyE1",
        "outputId": "79360f25-284f-474f-cddd-2172f6beb5fa"
      },
      "execution_count": null,
      "outputs": [
        {
          "output_type": "stream",
          "name": "stdout",
          "text": [
            "Hello\n"
          ]
        }
      ]
    },
    {
      "cell_type": "code",
      "source": [
        "count = 0\n",
        "\n",
        "for number in range(10):\n",
        "    count = count + number\n",
        "print('The count is:', count)"
      ],
      "metadata": {
        "colab": {
          "base_uri": "https://localhost:8080/"
        },
        "id": "J6g68TvgiMfj",
        "outputId": "e8eb2c6b-d6e4-48ff-f6ac-f675f9f300c5"
      },
      "execution_count": null,
      "outputs": [
        {
          "output_type": "stream",
          "name": "stdout",
          "text": [
            "The count is: 45\n"
          ]
        }
      ]
    },
    {
      "cell_type": "code",
      "source": [
        "triangle_number = 0\n",
        "\n",
        "for number in range(10):\n",
        "    triangle_number = triangle_number + number\n",
        "print('The count is:', triangular_number)"
      ],
      "metadata": {
        "colab": {
          "base_uri": "https://localhost:8080/"
        },
        "id": "mgYudWE3idpL",
        "outputId": "5ef54a15-a2cc-4914-8233-1de0e585abd8"
      },
      "execution_count": null,
      "outputs": [
        {
          "output_type": "stream",
          "name": "stdout",
          "text": [
            "The count is: 9\n"
          ]
        }
      ]
    },
    {
      "cell_type": "code",
      "source": [
        "letters = ['a', 'b', 'c']\n",
        "print('Letter #1 is', letters[0])\n",
        "print('Letter #2 is', letters[1])\n",
        "print('Letter #3 is', letters[2])"
      ],
      "metadata": {
        "colab": {
          "base_uri": "https://localhost:8080/"
        },
        "id": "QJovohhWjrjP",
        "outputId": "831e250e-35a9-4dc1-cc4c-e8ac417cd149"
      },
      "execution_count": null,
      "outputs": [
        {
          "output_type": "stream",
          "name": "stdout",
          "text": [
            "Letter #1 is a\n",
            "Letter #2 is b\n",
            "Letter #3 is c\n"
          ]
        }
      ]
    },
    {
      "cell_type": "code",
      "source": [
        "file_handle = open('myfile.txt', 'r')"
      ],
      "metadata": {
        "colab": {
          "base_uri": "https://localhost:8080/",
          "height": 176
        },
        "id": "Rj6-msshkDaJ",
        "outputId": "1e49e6ca-15b1-4376-d97e-f98abc099596"
      },
      "execution_count": null,
      "outputs": [
        {
          "output_type": "error",
          "ename": "FileNotFoundError",
          "evalue": "ignored",
          "traceback": [
            "\u001b[0;31m---------------------------------------------------------------------------\u001b[0m",
            "\u001b[0;31mFileNotFoundError\u001b[0m                         Traceback (most recent call last)",
            "\u001b[0;32m<ipython-input-30-080b0e91cc46>\u001b[0m in \u001b[0;36m<cell line: 1>\u001b[0;34m()\u001b[0m\n\u001b[0;32m----> 1\u001b[0;31m \u001b[0mfile_handle\u001b[0m \u001b[0;34m=\u001b[0m \u001b[0mopen\u001b[0m\u001b[0;34m(\u001b[0m\u001b[0;34m'myfile.txt'\u001b[0m\u001b[0;34m,\u001b[0m \u001b[0;34m'r'\u001b[0m\u001b[0;34m)\u001b[0m\u001b[0;34m\u001b[0m\u001b[0;34m\u001b[0m\u001b[0m\n\u001b[0m",
            "\u001b[0;31mFileNotFoundError\u001b[0m: [Errno 2] No such file or directory: 'myfile.txt'"
          ]
        }
      ]
    },
    {
      "cell_type": "code",
      "source": [
        "file_handle = open('myfile.txt', 'r')\n",
        "file_handle.read()"
      ],
      "metadata": {
        "colab": {
          "base_uri": "https://localhost:8080/",
          "height": 193
        },
        "id": "wrd5dZCAkZoU",
        "outputId": "6b77c1c7-7f6d-423f-efcb-f30fb64d375f"
      },
      "execution_count": null,
      "outputs": [
        {
          "output_type": "error",
          "ename": "FileNotFoundError",
          "evalue": "ignored",
          "traceback": [
            "\u001b[0;31m---------------------------------------------------------------------------\u001b[0m",
            "\u001b[0;31mFileNotFoundError\u001b[0m                         Traceback (most recent call last)",
            "\u001b[0;32m<ipython-input-33-1a77dd35bfbb>\u001b[0m in \u001b[0;36m<cell line: 1>\u001b[0;34m()\u001b[0m\n\u001b[0;32m----> 1\u001b[0;31m \u001b[0mfile_handle\u001b[0m \u001b[0;34m=\u001b[0m \u001b[0mopen\u001b[0m\u001b[0;34m(\u001b[0m\u001b[0;34m'myfile.txt'\u001b[0m\u001b[0;34m,\u001b[0m \u001b[0;34m'r'\u001b[0m\u001b[0;34m)\u001b[0m\u001b[0;34m\u001b[0m\u001b[0;34m\u001b[0m\u001b[0m\n\u001b[0m\u001b[1;32m      2\u001b[0m \u001b[0mfile_handle\u001b[0m\u001b[0;34m.\u001b[0m\u001b[0mread\u001b[0m\u001b[0;34m(\u001b[0m\u001b[0;34m)\u001b[0m\u001b[0;34m\u001b[0m\u001b[0;34m\u001b[0m\u001b[0m\n",
            "\u001b[0;31mFileNotFoundError\u001b[0m: [Errno 2] No such file or directory: 'myfile.txt'"
          ]
        }
      ]
    },
    {
      "cell_type": "code",
      "source": [
        "def another_function():\n",
        "    print('Syntax errors are annoying.')\n",
        "    print('But at least Python tells us about them!')\n",
        "    print('So they are usually not too hard to fix.')"
      ],
      "metadata": {
        "id": "bMhorz02lVrg"
      },
      "execution_count": null,
      "outputs": []
    },
    {
      "cell_type": "code",
      "source": [
        "another_function()"
      ],
      "metadata": {
        "colab": {
          "base_uri": "https://localhost:8080/"
        },
        "id": "oihiKJYal8A2",
        "outputId": "fb1919d4-89ce-4b12-d0a4-db5222da9fc5"
      },
      "execution_count": null,
      "outputs": [
        {
          "output_type": "stream",
          "name": "stdout",
          "text": [
            "Syntax errors are annoying.\n",
            "But at least Python tells us about them!\n",
            "So they are usually not too hard to fix.\n"
          ]
        }
      ]
    },
    {
      "cell_type": "code",
      "source": [
        "message = \"\"\n",
        "\n",
        "for number in range(10):\n",
        "    # use a if the number is a multiple of 3, otherwise use b\n",
        "    if (number % 3) == 0:\n",
        "        message = message + 'aghdgh'\n",
        "    else:\n",
        "        message = message + 'b'\n",
        "print(message)"
      ],
      "metadata": {
        "colab": {
          "base_uri": "https://localhost:8080/"
        },
        "id": "sYhg55EomE3B",
        "outputId": "2cb282ec-948e-4644-c5c1-a99f371e1764"
      },
      "execution_count": null,
      "outputs": [
        {
          "output_type": "stream",
          "name": "stdout",
          "text": [
            "aghdghbbaghdghbbaghdghbbaghdgh\n"
          ]
        }
      ]
    },
    {
      "cell_type": "code",
      "source": [
        "def fahr_to_cel(temp_f):\n",
        "    \"\"\"\n",
        "    This function converts temp in F to C\n",
        "\n",
        "    arguments:\n",
        "        temp_f: temperature in Fahrenheit\n",
        "\n",
        "    returns:\n",
        "        temp_c: temperature in Celsius\n",
        "    \"\"\"\n",
        "    temp_in_c = ((temp_f - 32) * (5/9))\n",
        "    return temp_in_c"
      ],
      "metadata": {
        "id": "IN-JGbp4nF3S"
      },
      "execution_count": null,
      "outputs": []
    },
    {
      "cell_type": "code",
      "source": [
        "fahr_to_cel(212)"
      ],
      "metadata": {
        "colab": {
          "base_uri": "https://localhost:8080/"
        },
        "id": "8ERSHri4nfdb",
        "outputId": "bf57703d-299e-43be-9456-63dae1029fb4"
      },
      "execution_count": null,
      "outputs": [
        {
          "output_type": "execute_result",
          "data": {
            "text/plain": [
              "100.0"
            ]
          },
          "metadata": {},
          "execution_count": 47
        }
      ]
    },
    {
      "cell_type": "code",
      "source": [
        "seasons = ['Spring', 'Summer', 'Fall', 'Winter']\n",
        "print('My favorite season is', seasons[3])"
      ],
      "metadata": {
        "colab": {
          "base_uri": "https://localhost:8080/"
        },
        "id": "wqxD27FOnvTK",
        "outputId": "4df2182a-a46d-4949-a46c-b386b6963396"
      },
      "execution_count": null,
      "outputs": [
        {
          "output_type": "stream",
          "name": "stdout",
          "text": [
            "My favorite season is Winter\n"
          ]
        }
      ]
    }
  ]
}