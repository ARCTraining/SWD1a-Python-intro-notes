{
  "nbformat": 4,
  "nbformat_minor": 0,
  "metadata": {
    "colab": {
      "provenance": []
    },
    "kernelspec": {
      "name": "python3",
      "display_name": "Python 3"
    },
    "language_info": {
      "name": "python"
    }
  },
  "cells": [
    {
      "cell_type": "code",
      "source": [
        "# this script shows you how functions can be used to make your code more modular\n",
        "# and reuseable\n",
        "\n",
        "import numpy as np\n",
        "import matplotlib.pyplot as plt"
      ],
      "metadata": {
        "id": "WTMJXd7VZFoo"
      },
      "execution_count": 1,
      "outputs": []
    },
    {
      "cell_type": "code",
      "execution_count": 2,
      "metadata": {
        "colab": {
          "base_uri": "https://localhost:8080/"
        },
        "id": "2s_lUYd5Rbmc",
        "outputId": "b35af8c4-562d-46a7-c415-bb677bf465bc"
      },
      "outputs": [
        {
          "output_type": "stream",
          "name": "stdout",
          "text": [
            "Hello world!\n"
          ]
        }
      ],
      "source": [
        "# how do we reuse code?\n",
        "\n",
        "# by using functions!\n",
        "print(\"Hello world!\")"
      ]
    },
    {
      "cell_type": "code",
      "source": [
        "temp_in_f = 99\n",
        "temp_in_c = ((temp_in_f - 32) * (5/9))\n",
        "print(temp_in_c)"
      ],
      "metadata": {
        "colab": {
          "base_uri": "https://localhost:8080/"
        },
        "id": "oe3-1lqDSkyc",
        "outputId": "63b018ed-18d4-42b8-d021-c9b987618f29"
      },
      "execution_count": 3,
      "outputs": [
        {
          "output_type": "stream",
          "name": "stdout",
          "text": [
            "37.22222222222222\n"
          ]
        }
      ]
    },
    {
      "cell_type": "code",
      "source": [
        "# instead of repeating the above code every time we want to use it on a different temp value\n",
        "# we can instead wrap it in a function\n",
        "\n",
        "\n",
        "def fahr_to_cel(temp_f):\n",
        "    \"\"\"\n",
        "    This function converts temp in F to C\n",
        "\n",
        "    arguments:\n",
        "        temp_f: temperature in Fahrenheit\n",
        "\n",
        "    returns:\n",
        "        temp_c: temperature in Celsius\n",
        "    \"\"\"\n",
        "    temp_in_c = ((temp_f - 32) * (5/9))\n",
        "    return temp_in_c\n",
        "\n"
      ],
      "metadata": {
        "id": "8oC9bU8yTDWx"
      },
      "execution_count": 4,
      "outputs": []
    },
    {
      "cell_type": "code",
      "source": [
        "new_temp_c = fahr_to_cel(99)"
      ],
      "metadata": {
        "id": "aTWmJfw7UD34"
      },
      "execution_count": 5,
      "outputs": []
    },
    {
      "cell_type": "code",
      "source": [
        "new_temp_c"
      ],
      "metadata": {
        "colab": {
          "base_uri": "https://localhost:8080/"
        },
        "id": "JqznOKW6URti",
        "outputId": "c5abb763-996f-4a9c-a769-3d6b4adf062b"
      },
      "execution_count": 6,
      "outputs": [
        {
          "output_type": "execute_result",
          "data": {
            "text/plain": [
              "37.22222222222222"
            ]
          },
          "metadata": {},
          "execution_count": 6
        }
      ]
    },
    {
      "cell_type": "code",
      "source": [
        "# we can also do the calculations directly in the return statement\n",
        "\n",
        "def fahr_to_cel_implicit(temp_f):\n",
        "    \"\"\"\n",
        "    This function converts temp in F to C\n",
        "\n",
        "    arguments:\n",
        "        temp_f: temperature in Fahrenheit\n",
        "\n",
        "    returns:\n",
        "        temp_c: temperature in Celsius\n",
        "    \"\"\"\n",
        "    return ((temp_f - 32) * (5/9))\n"
      ],
      "metadata": {
        "id": "vt4NWqLZUTOb"
      },
      "execution_count": 7,
      "outputs": []
    },
    {
      "cell_type": "code",
      "source": [
        "fahr_to_cel_implicit(99)"
      ],
      "metadata": {
        "colab": {
          "base_uri": "https://localhost:8080/"
        },
        "id": "kg_ANY3IUxsk",
        "outputId": "49c3f461-3507-45b8-8023-4feda9360961"
      },
      "execution_count": 8,
      "outputs": [
        {
          "output_type": "execute_result",
          "data": {
            "text/plain": [
              "37.22222222222222"
            ]
          },
          "metadata": {},
          "execution_count": 8
        }
      ]
    },
    {
      "cell_type": "code",
      "source": [
        "# if a variable is defined inside a function but is not in the return statement\n",
        "# it will not be accessible outside of the function\n",
        "# this is called a local variable\n",
        "# for example m below\n",
        "def testing_returns(temp_f, y):\n",
        "    \"\"\"\n",
        "    This function converts temp in F to C\n",
        "\n",
        "    arguments:\n",
        "        temp_f: temperature in Fahrenheit\n",
        "\n",
        "    returns:\n",
        "        temp_c: temperature in Celsius\n",
        "    \"\"\"\n",
        "    temp_in_c = ((temp_f - 32) * (5/9))\n",
        "    x = 2\n",
        "    z = x + y\n",
        "    m = x * y\n",
        "    return temp_in_c, x, z\n"
      ],
      "metadata": {
        "id": "1iP9_vNGU7TD"
      },
      "execution_count": 9,
      "outputs": []
    },
    {
      "cell_type": "code",
      "source": [
        "test_values = testing_returns(99, 1)"
      ],
      "metadata": {
        "id": "swgD26wSU9Gi"
      },
      "execution_count": 10,
      "outputs": []
    },
    {
      "cell_type": "code",
      "source": [
        "test_values[2]"
      ],
      "metadata": {
        "colab": {
          "base_uri": "https://localhost:8080/"
        },
        "id": "1d5M8Y6bVfyR",
        "outputId": "012bac03-5d48-45d3-857d-466792c122d6"
      },
      "execution_count": 11,
      "outputs": [
        {
          "output_type": "execute_result",
          "data": {
            "text/plain": [
              "3"
            ]
          },
          "metadata": {},
          "execution_count": 11
        }
      ]
    },
    {
      "cell_type": "code",
      "source": [
        "# we can create functions to plot our results:\n",
        "\n",
        "def visualisation(data, title):\n",
        "  \"\"\"\n",
        "  This function plots a dataset, given a numpy array and a string title\n",
        "\n",
        "  Arguments:\n",
        "    data: numpy\n",
        "  \"\"\"\n",
        "\n",
        "  fig = plt.figure(figsize=(5.0, 7.0), layout=\"compressed\")\n",
        "\n",
        "  # set up individual axes\n",
        "  axes1 = fig.add_subplot(2, 1, 1)\n",
        "  axes2 = axes1.twinx()\n",
        "  axes3 = fig.add_subplot(2, 1, 2)\n",
        "\n",
        "  # plot some data\n",
        "  # top panel\n",
        "  axes1.plot(np.mean(data, axis=0), c=\"black\")\n",
        "  axes2.plot(np.amin(data, axis=0), c=\"grey\", linestyle=\"--\")\n",
        "  axes1.set_xlabel(\"Days\")\n",
        "  axes1.set_ylabel(\"Mean inflammation\")\n",
        "  axes2.set_ylabel(\"Min. inflammation\", c=\"grey\")\n",
        "\n",
        "  #lower panel\n",
        "  heatmap = axes3.imshow(data, aspect=\"auto\")\n",
        "  cbar = fig.colorbar(heatmap, location=\"bottom\")\n",
        "  cbar.set_label(\"Inflammation\")\n",
        "  axes3.set_xlabel(\"Days\")\n",
        "  axes3.set_ylabel(\"Patient ID #\")\n",
        "\n",
        "  axes1.set_xlim(-0.5, 39.5)\n",
        "  axes3.set_xlim(-0.5, 39.5)\n",
        "\n",
        "  fig.suptitle(title)\n",
        "\n",
        "  save_path = \"/content/swc-python/plots/\"\n",
        "\n",
        "  plt.savefig(save_path + title + \".png\")"
      ],
      "metadata": {
        "id": "mf5MadOmVjIx"
      },
      "execution_count": 12,
      "outputs": []
    },
    {
      "cell_type": "code",
      "source": [
        "# to use this function, we need to have data to plot:\n",
        "\n",
        "# Download 2 files and store in the swc-python folder\n",
        "!wget -P swc-python https://swcarpentry.github.io/python-novice-inflammation/data/python-novice-inflammation-data.zip\n",
        "!wget -P swc-python https://swcarpentry.github.io/python-novice-inflammation/files/code/python-novice-inflammation-code.zip"
      ],
      "metadata": {
        "colab": {
          "base_uri": "https://localhost:8080/"
        },
        "id": "aoUn0L8WZDJ2",
        "outputId": "cc18e49f-54f1-4959-9cae-3b610ef42f03"
      },
      "execution_count": 13,
      "outputs": [
        {
          "output_type": "stream",
          "name": "stdout",
          "text": [
            "--2023-11-17 11:14:49--  https://swcarpentry.github.io/python-novice-inflammation/data/python-novice-inflammation-data.zip\n",
            "Resolving swcarpentry.github.io (swcarpentry.github.io)... 185.199.108.153, 185.199.109.153, 185.199.110.153, ...\n",
            "Connecting to swcarpentry.github.io (swcarpentry.github.io)|185.199.108.153|:443... connected.\n",
            "HTTP request sent, awaiting response... 200 OK\n",
            "Length: 22554 (22K) [application/zip]\n",
            "Saving to: ‘swc-python/python-novice-inflammation-data.zip’\n",
            "\n",
            "\r          python-no   0%[                    ]       0  --.-KB/s               \rpython-novice-infla 100%[===================>]  22.03K  --.-KB/s    in 0s      \n",
            "\n",
            "2023-11-17 11:14:49 (92.8 MB/s) - ‘swc-python/python-novice-inflammation-data.zip’ saved [22554/22554]\n",
            "\n",
            "--2023-11-17 11:14:49--  https://swcarpentry.github.io/python-novice-inflammation/files/code/python-novice-inflammation-code.zip\n",
            "Resolving swcarpentry.github.io (swcarpentry.github.io)... 185.199.108.153, 185.199.109.153, 185.199.110.153, ...\n",
            "Connecting to swcarpentry.github.io (swcarpentry.github.io)|185.199.108.153|:443... connected.\n",
            "HTTP request sent, awaiting response... 200 OK\n",
            "Length: 7301 (7.1K) [application/zip]\n",
            "Saving to: ‘swc-python/python-novice-inflammation-code.zip’\n",
            "\n",
            "python-novice-infla 100%[===================>]   7.13K  --.-KB/s    in 0s      \n",
            "\n",
            "2023-11-17 11:14:49 (46.0 MB/s) - ‘swc-python/python-novice-inflammation-code.zip’ saved [7301/7301]\n",
            "\n"
          ]
        }
      ]
    },
    {
      "cell_type": "code",
      "source": [
        "# Extract .zip files inside the folder swc-python/\n",
        "!unzip /content/swc-python/python-novice-inflammation-code.zip -d /content/swc-python/\n",
        "!unzip /content/swc-python/python-novice-inflammation-data.zip -d /content/swc-python/"
      ],
      "metadata": {
        "colab": {
          "base_uri": "https://localhost:8080/"
        },
        "id": "-wxs1Y8hZR7s",
        "outputId": "4fc04fe3-a06d-4d7a-ec50-9e0b164c38e0"
      },
      "execution_count": 14,
      "outputs": [
        {
          "output_type": "stream",
          "name": "stdout",
          "text": [
            "Archive:  /content/swc-python/python-novice-inflammation-code.zip\n",
            "  inflating: /content/swc-python/code/argv_list.py  \n",
            "  inflating: /content/swc-python/code/arith.py  \n",
            "  inflating: /content/swc-python/code/check.py  \n",
            "  inflating: /content/swc-python/code/count_stdin.py  \n",
            "  inflating: /content/swc-python/code/gen_inflammation.py  \n",
            "  inflating: /content/swc-python/code/line_count.py  \n",
            "  inflating: /content/swc-python/code/my_ls.py  \n",
            "  inflating: /content/swc-python/code/readings_01.py  \n",
            "  inflating: /content/swc-python/code/readings_02.py  \n",
            "  inflating: /content/swc-python/code/readings_03.py  \n",
            "  inflating: /content/swc-python/code/readings_04.py  \n",
            "  inflating: /content/swc-python/code/readings_05.py  \n",
            "  inflating: /content/swc-python/code/readings_06.py  \n",
            "  inflating: /content/swc-python/code/readings_07.py  \n",
            "  inflating: /content/swc-python/code/readings_08.py  \n",
            "  inflating: /content/swc-python/code/readings_09.py  \n",
            "  inflating: /content/swc-python/code/rectangle.py  \n",
            "  inflating: /content/swc-python/code/sys_version.py  \n",
            "Archive:  /content/swc-python/python-novice-inflammation-data.zip\n",
            "   creating: /content/swc-python/data/\n",
            "  inflating: /content/swc-python/data/inflammation-01.csv  \n",
            "  inflating: /content/swc-python/data/inflammation-02.csv  \n",
            "  inflating: /content/swc-python/data/inflammation-03.csv  \n",
            "  inflating: /content/swc-python/data/inflammation-04.csv  \n",
            "  inflating: /content/swc-python/data/inflammation-05.csv  \n",
            "  inflating: /content/swc-python/data/inflammation-06.csv  \n",
            "  inflating: /content/swc-python/data/inflammation-07.csv  \n",
            "  inflating: /content/swc-python/data/inflammation-08.csv  \n",
            "  inflating: /content/swc-python/data/inflammation-09.csv  \n",
            "  inflating: /content/swc-python/data/inflammation-10.csv  \n",
            "  inflating: /content/swc-python/data/inflammation-11.csv  \n",
            "  inflating: /content/swc-python/data/inflammation-12.csv  \n",
            " extracting: /content/swc-python/data/small-01.csv  \n",
            " extracting: /content/swc-python/data/small-02.csv  \n",
            " extracting: /content/swc-python/data/small-03.csv  \n"
          ]
        }
      ]
    },
    {
      "cell_type": "code",
      "source": [
        "# create a folder to stick plots\n",
        "!mkdir -p /content/swc-python/plots"
      ],
      "metadata": {
        "id": "OzwUTDMtZUrk"
      },
      "execution_count": 15,
      "outputs": []
    },
    {
      "cell_type": "code",
      "source": [
        "data = np.loadtxt(\"/content/swc-python/data/inflammation-07.csv\", delimiter=\",\")"
      ],
      "metadata": {
        "id": "YXXHmFIDZacE"
      },
      "execution_count": 16,
      "outputs": []
    },
    {
      "cell_type": "code",
      "source": [
        "visualisation(data, \"testing_visualisation_function\")"
      ],
      "metadata": {
        "colab": {
          "base_uri": "https://localhost:8080/",
          "height": 728
        },
        "id": "Dl949s8jZmAZ",
        "outputId": "0f44bde8-e6fd-4581-cd7e-a9242f5ed237"
      },
      "execution_count": 17,
      "outputs": [
        {
          "output_type": "display_data",
          "data": {
            "text/plain": [
              "<Figure size 500x700 with 4 Axes>"
            ],
            "image/png": "[encoded data removed]"
          },
          "metadata": {}
        }
      ]
    },
    {
      "cell_type": "code",
      "source": [],
      "metadata": {
        "id": "yTZeCH24Zurl"
      },
      "execution_count": null,
      "outputs": []
    }
  ]
}